{
  "metadata": {
    "language_info": {
      "codemirror_mode": {
        "name": "python",
        "version": 3
      },
      "file_extension": ".py",
      "mimetype": "text/x-python",
      "name": "python",
      "nbconvert_exporter": "python",
      "pygments_lexer": "ipython3",
      "version": "3.8"
    },
    "kernelspec": {
      "name": "python",
      "display_name": "Python (Pyodide)",
      "language": "python"
    }
  },
  "nbformat_minor": 4,
  "nbformat": 4,
  "cells": [
    {
      "cell_type": "code",
      "source": "import pandas as pd\nfrom sklearn.tree import DecisionTreeClassifier\nfrom sklearn.externals import joblib\n\n# for dump model:\nmusic_data = pd.read_csv('music.csv')\nX = music_data.drop(columns=['genre'])\ny = music_data['genre']\n\n                 \nmodel = DecisionTreeClassifier()\nmodel.fit(X, y)\n\njoblib.dump(model, 'music-recommender.joblib')",
      "metadata": {},
      "execution_count": null,
      "outputs": []
    }
  ]
}